{
 "cells": [
  {
   "cell_type": "code",
   "execution_count": 1,
   "metadata": {},
   "outputs": [],
   "source": [
    "import numpy as np\n",
    "import matplotlib.pyplot as plt\n",
    "import torch\n",
    "import torch.nn as nn\n",
    "import torch.nn.functional as F\n",
    "import torchvision\n",
    "import torchvision.datasets as ds\n",
    "import torchvision.transforms as transforms\n",
    "import torch.optim as optim\n",
    "import pickle\n",
    "import ffn"
   ]
  },
  {
   "cell_type": "code",
   "execution_count": 2,
   "metadata": {},
   "outputs": [],
   "source": [
    "with open('bestModel.pkl', 'rb') as f:\n",
    "    bestmodel = pickle.load(f)\n",
    "    \n"
   ]
  },
  {
   "cell_type": "code",
   "execution_count": 3,
   "metadata": {},
   "outputs": [
    {
     "name": "stdout",
     "output_type": "stream",
     "text": [
      "Test accuracy:  91.17788461538461\n",
      "Test F1:  91.17059700094961\n"
     ]
    }
   ],
   "source": [
    "test_dataset = ds.EMNIST(root='./data', split='letters', train=False,\n",
    "                         transform=transforms.Compose([\n",
    "                             transforms.ToTensor(),  # Convert images to PyTorch tensors\n",
    "                             transforms.Lambda(lambda x: torch.flatten(x))  # Flatten the images\n",
    "                         ]),\n",
    "                         download=True)\n",
    "\n",
    "#----------------------------------TEST DATA----------------------------------\n",
    "test_loader = torch.utils.data.DataLoader(test_dataset, batch_size=1024, shuffle=False)\n",
    "\n",
    "accuracy, f1, all_targets, all_predictions = bestmodel.evaluate(test_loader)\n",
    "\n",
    "print('Test accuracy: ', accuracy)\n",
    "print('Test F1: ', f1)"
   ]
  }
 ],
 "metadata": {
  "kernelspec": {
   "display_name": "Python 3",
   "language": "python",
   "name": "python3"
  },
  "language_info": {
   "codemirror_mode": {
    "name": "ipython",
    "version": 3
   },
   "file_extension": ".py",
   "mimetype": "text/x-python",
   "name": "python",
   "nbconvert_exporter": "python",
   "pygments_lexer": "ipython3",
   "version": "3.11.5"
  }
 },
 "nbformat": 4,
 "nbformat_minor": 2
}
